{
 "cells": [
  {
   "cell_type": "markdown",
   "metadata": {},
   "source": [
    "<a id='contenidos'></a>"
   ]
  },
  {
   "cell_type": "markdown",
   "metadata": {
    "toc": true
   },
   "source": [
    "<h1>Tabla de Contenidos<span class=\"tocSkip\"></span></h1>\n",
    "<div class=\"toc\"><ul class=\"toc-item\"><li><span><a href=\"#Cargar-sets-de-datos\" data-toc-modified-id=\"Cargar-sets-de-datos-1\"><span class=\"toc-item-num\">1&nbsp;&nbsp;</span>Cargar sets de datos</a></span></li><li><span><a href=\"#Principales-barrios-donde-finalizaron-los-viajes\" data-toc-modified-id=\"Principales-barrios-donde-finalizaron-los-viajes-2\"><span class=\"toc-item-num\">2&nbsp;&nbsp;</span>Principales barrios donde finalizaron los viajes</a></span></li><li><span><a href=\"#Principales-compañias-con-la-mayor-cantidad-de-viajes\" data-toc-modified-id=\"Principales-compañias-con-la-mayor-cantidad-de-viajes-3\"><span class=\"toc-item-num\">3&nbsp;&nbsp;</span>Principales compañias con la mayor cantidad de viajes</a></span></li><li><span><a href=\"#Pruebas-de-hipótesis\" data-toc-modified-id=\"Pruebas-de-hipótesis-4\"><span class=\"toc-item-num\">4&nbsp;&nbsp;</span>Pruebas de hipótesis</a></span></li><li><span><a href=\"#Conclusiones\" data-toc-modified-id=\"Conclusiones-5\"><span class=\"toc-item-num\">5&nbsp;&nbsp;</span>Conclusiones</a></span></li></ul></div>"
   ]
  },
  {
   "cell_type": "code",
   "execution_count": 1,
   "metadata": {},
   "outputs": [],
   "source": [
    "# importamos las librerias a ocupar\n",
    "import pandas as pd\n",
    "import matplotlib.pyplot as plt\n",
    "import seaborn as sns\n",
    "import numpy as np\n",
    "from scipy import stats as st\n",
    "\n",
    "sns.set_palette(palette='tab10')"
   ]
  },
  {
   "cell_type": "markdown",
   "metadata": {},
   "source": [
    "# Introducción  \n",
    "En este proyecto vamos a analizar datos de Zuber, una nueva empresa de viajes compartidos que se está lanzando en Chicago. Nuestra tarea será encontrar patrones en la información disponible. Queremos comprender las preferencias de los pasajeros y el impacto de los factores externos en los viajes.  \n",
    "Trabajaremos con datos provenientes de bases de datos y de  la web, analizaremos datos de los competidores y probaremos una hipótesis sobre el impacto del clima en la frecuencia de los viajes."
   ]
  },
  {
   "cell_type": "markdown",
   "metadata": {},
   "source": [
    "[Volver a Contenidos](#contenidos)\n",
    "## Cargar sets de datos  \n",
    "Vamos a cargar los archivos `csv` en DataFrames para poder revisar su estructura."
   ]
  },
  {
   "cell_type": "code",
   "execution_count": 2,
   "metadata": {},
   "outputs": [],
   "source": [
    "# set de datos para los viajes realizados por las distintas compañias\n",
    "data_trips=pd.read_csv('moved_project_sql_result_01.csv')"
   ]
  },
  {
   "cell_type": "code",
   "execution_count": 3,
   "metadata": {},
   "outputs": [],
   "source": [
    "# set de datos para los barrios de Chicago doonde terminaron los viajes\n",
    "data_dropoff_location=pd.read_csv('moved_project_sql_result_04.csv')"
   ]
  },
  {
   "cell_type": "code",
   "execution_count": 4,
   "metadata": {},
   "outputs": [],
   "source": [
    "# set de datos sobre viajes desde el Loop hasta el Aeropuerto Internacional O'Hare\n",
    "data_loop_ohare=pd.read_csv('moved_project_sql_result_07.csv')"
   ]
  },
  {
   "cell_type": "markdown",
   "metadata": {},
   "source": [
    "Revisemos la información general de cada dataframe."
   ]
  },
  {
   "cell_type": "code",
   "execution_count": 5,
   "metadata": {},
   "outputs": [
    {
     "name": "stdout",
     "output_type": "stream",
     "text": [
      "<class 'pandas.core.frame.DataFrame'>\n",
      "RangeIndex: 64 entries, 0 to 63\n",
      "Data columns (total 2 columns):\n",
      " #   Column        Non-Null Count  Dtype \n",
      "---  ------        --------------  ----- \n",
      " 0   company_name  64 non-null     object\n",
      " 1   trips_amount  64 non-null     int64 \n",
      "dtypes: int64(1), object(1)\n",
      "memory usage: 1.1+ KB\n"
     ]
    }
   ],
   "source": [
    "# mostremos información del dataframe para la cantidad de viajes realizados por las compañias\n",
    "data_trips.info()"
   ]
  },
  {
   "cell_type": "code",
   "execution_count": 6,
   "metadata": {},
   "outputs": [
    {
     "data": {
      "text/html": [
       "<div>\n",
       "<style scoped>\n",
       "    .dataframe tbody tr th:only-of-type {\n",
       "        vertical-align: middle;\n",
       "    }\n",
       "\n",
       "    .dataframe tbody tr th {\n",
       "        vertical-align: top;\n",
       "    }\n",
       "\n",
       "    .dataframe thead th {\n",
       "        text-align: right;\n",
       "    }\n",
       "</style>\n",
       "<table border=\"1\" class=\"dataframe\">\n",
       "  <thead>\n",
       "    <tr style=\"text-align: right;\">\n",
       "      <th></th>\n",
       "      <th>company_name</th>\n",
       "      <th>trips_amount</th>\n",
       "    </tr>\n",
       "  </thead>\n",
       "  <tbody>\n",
       "    <tr>\n",
       "      <th>0</th>\n",
       "      <td>Flash Cab</td>\n",
       "      <td>19558</td>\n",
       "    </tr>\n",
       "    <tr>\n",
       "      <th>1</th>\n",
       "      <td>Taxi Affiliation Services</td>\n",
       "      <td>11422</td>\n",
       "    </tr>\n",
       "    <tr>\n",
       "      <th>2</th>\n",
       "      <td>Medallion Leasin</td>\n",
       "      <td>10367</td>\n",
       "    </tr>\n",
       "    <tr>\n",
       "      <th>3</th>\n",
       "      <td>Yellow Cab</td>\n",
       "      <td>9888</td>\n",
       "    </tr>\n",
       "    <tr>\n",
       "      <th>4</th>\n",
       "      <td>Taxi Affiliation Service Yellow</td>\n",
       "      <td>9299</td>\n",
       "    </tr>\n",
       "  </tbody>\n",
       "</table>\n",
       "</div>"
      ],
      "text/plain": [
       "                      company_name  trips_amount\n",
       "0                        Flash Cab         19558\n",
       "1        Taxi Affiliation Services         11422\n",
       "2                 Medallion Leasin         10367\n",
       "3                       Yellow Cab          9888\n",
       "4  Taxi Affiliation Service Yellow          9299"
      ]
     },
     "execution_count": 6,
     "metadata": {},
     "output_type": "execute_result"
    }
   ],
   "source": [
    "# mostramos parte de los datos\n",
    "data_trips.head()"
   ]
  },
  {
   "cell_type": "markdown",
   "metadata": {},
   "source": [
    "Podemos notar que para el dataframe que contiene los datos de la cantidad de viajes realizados por cada compañia, el nombre de las columnas está bien definido y el tipo de datos corresponde a la información que contiene."
   ]
  },
  {
   "cell_type": "code",
   "execution_count": 7,
   "metadata": {},
   "outputs": [
    {
     "name": "stdout",
     "output_type": "stream",
     "text": [
      "<class 'pandas.core.frame.DataFrame'>\n",
      "RangeIndex: 94 entries, 0 to 93\n",
      "Data columns (total 2 columns):\n",
      " #   Column                 Non-Null Count  Dtype  \n",
      "---  ------                 --------------  -----  \n",
      " 0   dropoff_location_name  94 non-null     object \n",
      " 1   average_trips          94 non-null     float64\n",
      "dtypes: float64(1), object(1)\n",
      "memory usage: 1.6+ KB\n"
     ]
    }
   ],
   "source": [
    "# mostremos información del dataframe para los barrios de Chicago donde terminaron los viajes\n",
    "data_dropoff_location.info()"
   ]
  },
  {
   "cell_type": "code",
   "execution_count": 8,
   "metadata": {},
   "outputs": [
    {
     "data": {
      "text/html": [
       "<div>\n",
       "<style scoped>\n",
       "    .dataframe tbody tr th:only-of-type {\n",
       "        vertical-align: middle;\n",
       "    }\n",
       "\n",
       "    .dataframe tbody tr th {\n",
       "        vertical-align: top;\n",
       "    }\n",
       "\n",
       "    .dataframe thead th {\n",
       "        text-align: right;\n",
       "    }\n",
       "</style>\n",
       "<table border=\"1\" class=\"dataframe\">\n",
       "  <thead>\n",
       "    <tr style=\"text-align: right;\">\n",
       "      <th></th>\n",
       "      <th>dropoff_location_name</th>\n",
       "      <th>average_trips</th>\n",
       "    </tr>\n",
       "  </thead>\n",
       "  <tbody>\n",
       "    <tr>\n",
       "      <th>0</th>\n",
       "      <td>Loop</td>\n",
       "      <td>10727.466667</td>\n",
       "    </tr>\n",
       "    <tr>\n",
       "      <th>1</th>\n",
       "      <td>River North</td>\n",
       "      <td>9523.666667</td>\n",
       "    </tr>\n",
       "    <tr>\n",
       "      <th>2</th>\n",
       "      <td>Streeterville</td>\n",
       "      <td>6664.666667</td>\n",
       "    </tr>\n",
       "    <tr>\n",
       "      <th>3</th>\n",
       "      <td>West Loop</td>\n",
       "      <td>5163.666667</td>\n",
       "    </tr>\n",
       "    <tr>\n",
       "      <th>4</th>\n",
       "      <td>O'Hare</td>\n",
       "      <td>2546.900000</td>\n",
       "    </tr>\n",
       "  </tbody>\n",
       "</table>\n",
       "</div>"
      ],
      "text/plain": [
       "  dropoff_location_name  average_trips\n",
       "0                  Loop   10727.466667\n",
       "1           River North    9523.666667\n",
       "2         Streeterville    6664.666667\n",
       "3             West Loop    5163.666667\n",
       "4                O'Hare    2546.900000"
      ]
     },
     "execution_count": 8,
     "metadata": {},
     "output_type": "execute_result"
    }
   ],
   "source": [
    "# mostramos parte de los datos\n",
    "data_dropoff_location.head()"
   ]
  },
  {
   "cell_type": "markdown",
   "metadata": {},
   "source": [
    "Podemos notar que para el dataframe que contiene los datos sobre el promedio de viajes que terminaron en algún barrio de Chicago, el nombre de las columnas está bien definido y el tipo de datos corresponde la información contenida en cada columna."
   ]
  },
  {
   "cell_type": "code",
   "execution_count": 9,
   "metadata": {},
   "outputs": [
    {
     "name": "stdout",
     "output_type": "stream",
     "text": [
      "<class 'pandas.core.frame.DataFrame'>\n",
      "RangeIndex: 1068 entries, 0 to 1067\n",
      "Data columns (total 3 columns):\n",
      " #   Column              Non-Null Count  Dtype  \n",
      "---  ------              --------------  -----  \n",
      " 0   start_ts            1068 non-null   object \n",
      " 1   weather_conditions  1068 non-null   object \n",
      " 2   duration_seconds    1068 non-null   float64\n",
      "dtypes: float64(1), object(2)\n",
      "memory usage: 25.2+ KB\n"
     ]
    }
   ],
   "source": [
    "# mostremos información del dataframe para los viajes desde el Loop hasta el Aeropuerto Internacional O'Hare\n",
    "data_loop_ohare.info()"
   ]
  },
  {
   "cell_type": "code",
   "execution_count": 10,
   "metadata": {},
   "outputs": [
    {
     "data": {
      "text/html": [
       "<div>\n",
       "<style scoped>\n",
       "    .dataframe tbody tr th:only-of-type {\n",
       "        vertical-align: middle;\n",
       "    }\n",
       "\n",
       "    .dataframe tbody tr th {\n",
       "        vertical-align: top;\n",
       "    }\n",
       "\n",
       "    .dataframe thead th {\n",
       "        text-align: right;\n",
       "    }\n",
       "</style>\n",
       "<table border=\"1\" class=\"dataframe\">\n",
       "  <thead>\n",
       "    <tr style=\"text-align: right;\">\n",
       "      <th></th>\n",
       "      <th>start_ts</th>\n",
       "      <th>weather_conditions</th>\n",
       "      <th>duration_seconds</th>\n",
       "    </tr>\n",
       "  </thead>\n",
       "  <tbody>\n",
       "    <tr>\n",
       "      <th>0</th>\n",
       "      <td>2017-11-25 16:00:00</td>\n",
       "      <td>Good</td>\n",
       "      <td>2410.0</td>\n",
       "    </tr>\n",
       "    <tr>\n",
       "      <th>1</th>\n",
       "      <td>2017-11-25 14:00:00</td>\n",
       "      <td>Good</td>\n",
       "      <td>1920.0</td>\n",
       "    </tr>\n",
       "    <tr>\n",
       "      <th>2</th>\n",
       "      <td>2017-11-25 12:00:00</td>\n",
       "      <td>Good</td>\n",
       "      <td>1543.0</td>\n",
       "    </tr>\n",
       "    <tr>\n",
       "      <th>3</th>\n",
       "      <td>2017-11-04 10:00:00</td>\n",
       "      <td>Good</td>\n",
       "      <td>2512.0</td>\n",
       "    </tr>\n",
       "    <tr>\n",
       "      <th>4</th>\n",
       "      <td>2017-11-11 07:00:00</td>\n",
       "      <td>Good</td>\n",
       "      <td>1440.0</td>\n",
       "    </tr>\n",
       "  </tbody>\n",
       "</table>\n",
       "</div>"
      ],
      "text/plain": [
       "              start_ts weather_conditions  duration_seconds\n",
       "0  2017-11-25 16:00:00               Good            2410.0\n",
       "1  2017-11-25 14:00:00               Good            1920.0\n",
       "2  2017-11-25 12:00:00               Good            1543.0\n",
       "3  2017-11-04 10:00:00               Good            2512.0\n",
       "4  2017-11-11 07:00:00               Good            1440.0"
      ]
     },
     "execution_count": 10,
     "metadata": {},
     "output_type": "execute_result"
    }
   ],
   "source": [
    "# mostremos una parte de los datos\n",
    "data_loop_ohare.head()"
   ]
  },
  {
   "cell_type": "markdown",
   "metadata": {},
   "source": [
    "Podemos notar que para el dataframe que contiene los datos sobre los viajes realizados desde el Loop hasta el Aeropuerto Internatiocal O'Hare, el nombre de las columnas está bien definido pero debemos cambiar el tipo de datos  de la columna `'start_ts'` ya que está columna debe contener datos de tipo `'date'` y no de tipo `'object'`."
   ]
  },
  {
   "cell_type": "code",
   "execution_count": 11,
   "metadata": {},
   "outputs": [],
   "source": [
    "# cambiamos el tipo de datos de la columna 'start_ts' a tipo fecha\n",
    "data_loop_ohare['start_ts']=pd.to_datetime(data_loop_ohare['start_ts'],format='%Y-%m-%d')"
   ]
  },
  {
   "cell_type": "code",
   "execution_count": 12,
   "metadata": {},
   "outputs": [
    {
     "name": "stdout",
     "output_type": "stream",
     "text": [
      "<class 'pandas.core.frame.DataFrame'>\n",
      "RangeIndex: 1068 entries, 0 to 1067\n",
      "Data columns (total 3 columns):\n",
      " #   Column              Non-Null Count  Dtype         \n",
      "---  ------              --------------  -----         \n",
      " 0   start_ts            1068 non-null   datetime64[ns]\n",
      " 1   weather_conditions  1068 non-null   object        \n",
      " 2   duration_seconds    1068 non-null   float64       \n",
      "dtypes: datetime64[ns](1), float64(1), object(1)\n",
      "memory usage: 25.2+ KB\n"
     ]
    }
   ],
   "source": [
    "# verificamos que se haya hecho el cambio\n",
    "data_loop_ohare.info()"
   ]
  },
  {
   "cell_type": "markdown",
   "metadata": {},
   "source": [
    "Agreguemos ahora una columna para extraer el día de la semana."
   ]
  },
  {
   "cell_type": "code",
   "execution_count": 13,
   "metadata": {},
   "outputs": [],
   "source": [
    "# creamos una columna para extraer el nombre del día de la semana\n",
    "data_loop_ohare['day_of_week']=data_loop_ohare['start_ts'].dt.day_name()"
   ]
  },
  {
   "cell_type": "markdown",
   "metadata": {},
   "source": [
    "[Volver a Contenidos](#contenidos)\n",
    "## Principales barrios donde finalizaron los viajes  \n",
    "Vamos a identificar los diez principales barrios donde finalizaron los viajes y a crear gráficas para comparar la cantidad de viajes finalizados en cada barrio."
   ]
  },
  {
   "cell_type": "code",
   "execution_count": 14,
   "metadata": {},
   "outputs": [
    {
     "data": {
      "text/html": [
       "<div>\n",
       "<style scoped>\n",
       "    .dataframe tbody tr th:only-of-type {\n",
       "        vertical-align: middle;\n",
       "    }\n",
       "\n",
       "    .dataframe tbody tr th {\n",
       "        vertical-align: top;\n",
       "    }\n",
       "\n",
       "    .dataframe thead th {\n",
       "        text-align: right;\n",
       "    }\n",
       "</style>\n",
       "<table border=\"1\" class=\"dataframe\">\n",
       "  <thead>\n",
       "    <tr style=\"text-align: right;\">\n",
       "      <th></th>\n",
       "      <th>dropoff_location_name</th>\n",
       "      <th>average_trips</th>\n",
       "    </tr>\n",
       "  </thead>\n",
       "  <tbody>\n",
       "    <tr>\n",
       "      <th>0</th>\n",
       "      <td>Loop</td>\n",
       "      <td>10727.466667</td>\n",
       "    </tr>\n",
       "    <tr>\n",
       "      <th>1</th>\n",
       "      <td>River North</td>\n",
       "      <td>9523.666667</td>\n",
       "    </tr>\n",
       "    <tr>\n",
       "      <th>2</th>\n",
       "      <td>Streeterville</td>\n",
       "      <td>6664.666667</td>\n",
       "    </tr>\n",
       "    <tr>\n",
       "      <th>3</th>\n",
       "      <td>West Loop</td>\n",
       "      <td>5163.666667</td>\n",
       "    </tr>\n",
       "    <tr>\n",
       "      <th>4</th>\n",
       "      <td>O'Hare</td>\n",
       "      <td>2546.900000</td>\n",
       "    </tr>\n",
       "    <tr>\n",
       "      <th>5</th>\n",
       "      <td>Lake View</td>\n",
       "      <td>2420.966667</td>\n",
       "    </tr>\n",
       "    <tr>\n",
       "      <th>6</th>\n",
       "      <td>Grant Park</td>\n",
       "      <td>2068.533333</td>\n",
       "    </tr>\n",
       "    <tr>\n",
       "      <th>7</th>\n",
       "      <td>Museum Campus</td>\n",
       "      <td>1510.000000</td>\n",
       "    </tr>\n",
       "    <tr>\n",
       "      <th>8</th>\n",
       "      <td>Gold Coast</td>\n",
       "      <td>1364.233333</td>\n",
       "    </tr>\n",
       "    <tr>\n",
       "      <th>9</th>\n",
       "      <td>Sheffield &amp; DePaul</td>\n",
       "      <td>1259.766667</td>\n",
       "    </tr>\n",
       "  </tbody>\n",
       "</table>\n",
       "</div>"
      ],
      "text/plain": [
       "  dropoff_location_name  average_trips\n",
       "0                  Loop   10727.466667\n",
       "1           River North    9523.666667\n",
       "2         Streeterville    6664.666667\n",
       "3             West Loop    5163.666667\n",
       "4                O'Hare    2546.900000\n",
       "5             Lake View    2420.966667\n",
       "6            Grant Park    2068.533333\n",
       "7         Museum Campus    1510.000000\n",
       "8            Gold Coast    1364.233333\n",
       "9    Sheffield & DePaul    1259.766667"
      ]
     },
     "execution_count": 14,
     "metadata": {},
     "output_type": "execute_result"
    }
   ],
   "source": [
    "# diez principales barrios con la mayor cantidad de viajes finalizados\n",
    "table_dropoff_location=data_dropoff_location.sort_values(by='average_trips',ascending=False)[0:10]\n",
    "table_dropoff_location"
   ]
  },
  {
   "cell_type": "code",
   "execution_count": 15,
   "metadata": {},
   "outputs": [
    {
     "data": {
      "image/png": "[encoded data removed]",
      "text/plain": [
       "<Figure size 1000x500 with 1 Axes>"
      ]
     },
     "metadata": {},
     "output_type": "display_data"
    }
   ],
   "source": [
    "# creamos el gráfico de barras para mostrar los principales barrios donde finalizaron los viajes\n",
    "f,ax=plt.subplots(figsize=(10,5))\n",
    "sns.barplot(data=table_dropoff_location,x='dropoff_location_name',y='average_trips')\n",
    "# For each bar: Place a label\n",
    "for rect in ax.patches:\n",
    "    # Get X and Y placement of label from rect.\n",
    "    y_value = rect.get_height()\n",
    "    x_value = rect.get_x() + rect.get_width() / 2\n",
    "\n",
    "    # Number of points between bar and label\n",
    "    space = 3\n",
    "    # Vertical alignment 'va'\n",
    "\n",
    "    # Use Y value as label and format number with zero decimal place\n",
    "    label = \"{:.0f}\".format(y_value)\n",
    "\n",
    "    # Create annotation\n",
    "    ax.annotate(\n",
    "        label,                      # Use `label` as label\n",
    "        (x_value, y_value),         # Place label at end of the bar\n",
    "        xytext=(0, space),          # Vertically shift label by `space`\n",
    "        textcoords=\"offset points\", # Interpret `xytext` as offset in points\n",
    "        ha='center',                # Horizontally center label\n",
    "        va='bottom')              \n",
    "plt.xticks(rotation=45,ha='right')\n",
    "plt.ylim(0,12000)\n",
    "plt.ylabel('Cantidad de viajes promedio finalizados')\n",
    "plt.title('Gráfica para los diez barrios con la mayor cantidad de viajes finalizados')\n",
    "plt.show()"
   ]
  },
  {
   "cell_type": "markdown",
   "metadata": {},
   "source": [
    "De la gráfica anterior podemos notar que los barrios: **Loop, River North, Streeterville y West Loop**, son los barrios con la mayor cantidad de viajes finalizados, lo cual parece lógico ya que estos barrios están muy cerca al centro de la ciudad de Chicago. Mientras que los barrios: **Gold Coast y Sheffield & DePaul**, son los dos barrios con la menor cantidad de viajes finalizados."
   ]
  },
  {
   "cell_type": "markdown",
   "metadata": {},
   "source": [
    "[Volver a Contenidos](#contenidos)\n",
    "## Principales compañias con la mayor cantidad de viajes  \n",
    "Vamos a identificar las diez principales compañias con la mayor cantidad de viajes y a crear gráficas para comparar la cantidad de viajes realizados por cada compañia."
   ]
  },
  {
   "cell_type": "code",
   "execution_count": 16,
   "metadata": {},
   "outputs": [
    {
     "data": {
      "text/html": [
       "<div>\n",
       "<style scoped>\n",
       "    .dataframe tbody tr th:only-of-type {\n",
       "        vertical-align: middle;\n",
       "    }\n",
       "\n",
       "    .dataframe tbody tr th {\n",
       "        vertical-align: top;\n",
       "    }\n",
       "\n",
       "    .dataframe thead th {\n",
       "        text-align: right;\n",
       "    }\n",
       "</style>\n",
       "<table border=\"1\" class=\"dataframe\">\n",
       "  <thead>\n",
       "    <tr style=\"text-align: right;\">\n",
       "      <th></th>\n",
       "      <th>company_name</th>\n",
       "      <th>trips_amount</th>\n",
       "    </tr>\n",
       "  </thead>\n",
       "  <tbody>\n",
       "    <tr>\n",
       "      <th>0</th>\n",
       "      <td>Flash Cab</td>\n",
       "      <td>19558</td>\n",
       "    </tr>\n",
       "    <tr>\n",
       "      <th>1</th>\n",
       "      <td>Taxi Affiliation Services</td>\n",
       "      <td>11422</td>\n",
       "    </tr>\n",
       "    <tr>\n",
       "      <th>2</th>\n",
       "      <td>Medallion Leasin</td>\n",
       "      <td>10367</td>\n",
       "    </tr>\n",
       "    <tr>\n",
       "      <th>3</th>\n",
       "      <td>Yellow Cab</td>\n",
       "      <td>9888</td>\n",
       "    </tr>\n",
       "    <tr>\n",
       "      <th>4</th>\n",
       "      <td>Taxi Affiliation Service Yellow</td>\n",
       "      <td>9299</td>\n",
       "    </tr>\n",
       "    <tr>\n",
       "      <th>5</th>\n",
       "      <td>Chicago Carriage Cab Corp</td>\n",
       "      <td>9181</td>\n",
       "    </tr>\n",
       "    <tr>\n",
       "      <th>6</th>\n",
       "      <td>City Service</td>\n",
       "      <td>8448</td>\n",
       "    </tr>\n",
       "    <tr>\n",
       "      <th>7</th>\n",
       "      <td>Sun Taxi</td>\n",
       "      <td>7701</td>\n",
       "    </tr>\n",
       "    <tr>\n",
       "      <th>8</th>\n",
       "      <td>Star North Management LLC</td>\n",
       "      <td>7455</td>\n",
       "    </tr>\n",
       "    <tr>\n",
       "      <th>9</th>\n",
       "      <td>Blue Ribbon Taxi Association Inc.</td>\n",
       "      <td>5953</td>\n",
       "    </tr>\n",
       "  </tbody>\n",
       "</table>\n",
       "</div>"
      ],
      "text/plain": [
       "                        company_name  trips_amount\n",
       "0                          Flash Cab         19558\n",
       "1          Taxi Affiliation Services         11422\n",
       "2                   Medallion Leasin         10367\n",
       "3                         Yellow Cab          9888\n",
       "4    Taxi Affiliation Service Yellow          9299\n",
       "5          Chicago Carriage Cab Corp          9181\n",
       "6                       City Service          8448\n",
       "7                           Sun Taxi          7701\n",
       "8          Star North Management LLC          7455\n",
       "9  Blue Ribbon Taxi Association Inc.          5953"
      ]
     },
     "execution_count": 16,
     "metadata": {},
     "output_type": "execute_result"
    }
   ],
   "source": [
    "# diez principales compañias de taxis con la mayor cantidad de viajes\n",
    "table_trips=data_trips.sort_values(by='trips_amount',ascending=False)[0:10]\n",
    "table_trips"
   ]
  },
  {
   "cell_type": "code",
   "execution_count": 17,
   "metadata": {},
   "outputs": [
    {
     "data": {
      "image/png": "[encoded data removed]",
      "text/plain": [
       "<Figure size 1000x500 with 1 Axes>"
      ]
     },
     "metadata": {},
     "output_type": "display_data"
    }
   ],
   "source": [
    "# creamos el gráfico de barras para mostrar los viajes realizados por cada compañia\n",
    "f,ax=plt.subplots(figsize=(10,5))\n",
    "sns.barplot(data=table_trips,x='company_name',y='trips_amount')\n",
    "\n",
    "# For each bar: Place a label\n",
    "for rect in ax.patches:\n",
    "    # Get X and Y placement of label from rect.\n",
    "    y_value = rect.get_height()\n",
    "    x_value = rect.get_x() + rect.get_width() / 2\n",
    "\n",
    "    # Number of points between bar and label\n",
    "    space = 3\n",
    "    # Vertical alignment 'va'\n",
    "\n",
    "    # Use Y value as label and format number with zero decimal place\n",
    "    label = \"{:.0f}\".format(y_value)\n",
    "\n",
    "    # Create annotation\n",
    "    ax.annotate(\n",
    "        label,                      # Use `label` as label\n",
    "        (x_value, y_value),         # Place label at end of the bar\n",
    "        xytext=(0, space),          # Vertically shift label by `space`\n",
    "        textcoords=\"offset points\", # Interpret `xytext` as offset in points\n",
    "        ha='center',                # Horizontally center label\n",
    "        va='bottom')              \n",
    "plt.xticks(rotation=45,ha='right')\n",
    "plt.ylim(0,21000)\n",
    "plt.ylabel('Cantidad de viajes realizados')\n",
    "plt.title('Gráfica para las diez compañias con la mayor cantidad de viajes realizados')\n",
    "plt.show()"
   ]
  },
  {
   "cell_type": "markdown",
   "metadata": {},
   "source": [
    "De la gráfica anterior notamos que la compañia **Flash Cab** tiene la mayor cantidad de viajes realizados, prácticamente el doble que la compañia que le sigue en cantidad de viajes realizados. La compañia **Blue Ribbon Taxi Association Inc.,** es la compañia con la menor cantidad de viajes realizados, de las diez compañias con la mayor cantidad de viajes."
   ]
  },
  {
   "cell_type": "markdown",
   "metadata": {},
   "source": [
    "[Volver a Contenidos](#contenidos)\n",
    "## Pruebas de hipótesis  \n",
    "Vamos a probar la hipótesis de que **la duración promedio de los viajes desde el Loop hasta el Aeropuerto de Internacional de O'Hare cambia los sábados lluviosos.**  \n",
    "Para probar esta hipótesis vamos a emplear los datos contenidos en el dataframe `'data_loop_ohare'`. Este dataframe contiene los datos de los viajes realizados desde el Loop hasta el Aeropuerto Internacional de O'Hare los días sábados, además de las condiciones climáticas que prevalecieron ese día."
   ]
  },
  {
   "cell_type": "code",
   "execution_count": 18,
   "metadata": {},
   "outputs": [
    {
     "data": {
      "text/html": [
       "<div>\n",
       "<style scoped>\n",
       "    .dataframe tbody tr th:only-of-type {\n",
       "        vertical-align: middle;\n",
       "    }\n",
       "\n",
       "    .dataframe tbody tr th {\n",
       "        vertical-align: top;\n",
       "    }\n",
       "\n",
       "    .dataframe thead th {\n",
       "        text-align: right;\n",
       "    }\n",
       "</style>\n",
       "<table border=\"1\" class=\"dataframe\">\n",
       "  <thead>\n",
       "    <tr style=\"text-align: right;\">\n",
       "      <th></th>\n",
       "      <th>start_ts</th>\n",
       "      <th>weather_conditions</th>\n",
       "      <th>duration_seconds</th>\n",
       "      <th>day_of_week</th>\n",
       "    </tr>\n",
       "  </thead>\n",
       "  <tbody>\n",
       "    <tr>\n",
       "      <th>0</th>\n",
       "      <td>2017-11-25 16:00:00</td>\n",
       "      <td>Good</td>\n",
       "      <td>2410.0</td>\n",
       "      <td>Saturday</td>\n",
       "    </tr>\n",
       "    <tr>\n",
       "      <th>1</th>\n",
       "      <td>2017-11-25 14:00:00</td>\n",
       "      <td>Good</td>\n",
       "      <td>1920.0</td>\n",
       "      <td>Saturday</td>\n",
       "    </tr>\n",
       "    <tr>\n",
       "      <th>2</th>\n",
       "      <td>2017-11-25 12:00:00</td>\n",
       "      <td>Good</td>\n",
       "      <td>1543.0</td>\n",
       "      <td>Saturday</td>\n",
       "    </tr>\n",
       "    <tr>\n",
       "      <th>3</th>\n",
       "      <td>2017-11-04 10:00:00</td>\n",
       "      <td>Good</td>\n",
       "      <td>2512.0</td>\n",
       "      <td>Saturday</td>\n",
       "    </tr>\n",
       "    <tr>\n",
       "      <th>4</th>\n",
       "      <td>2017-11-11 07:00:00</td>\n",
       "      <td>Good</td>\n",
       "      <td>1440.0</td>\n",
       "      <td>Saturday</td>\n",
       "    </tr>\n",
       "  </tbody>\n",
       "</table>\n",
       "</div>"
      ],
      "text/plain": [
       "             start_ts weather_conditions  duration_seconds day_of_week\n",
       "0 2017-11-25 16:00:00               Good            2410.0    Saturday\n",
       "1 2017-11-25 14:00:00               Good            1920.0    Saturday\n",
       "2 2017-11-25 12:00:00               Good            1543.0    Saturday\n",
       "3 2017-11-04 10:00:00               Good            2512.0    Saturday\n",
       "4 2017-11-11 07:00:00               Good            1440.0    Saturday"
      ]
     },
     "execution_count": 18,
     "metadata": {},
     "output_type": "execute_result"
    }
   ],
   "source": [
    "# mostramos parte de los datos\n",
    "data_loop_ohare.head()"
   ]
  },
  {
   "cell_type": "code",
   "execution_count": 19,
   "metadata": {},
   "outputs": [
    {
     "data": {
      "text/plain": [
       "Good    888\n",
       "Bad     180\n",
       "Name: weather_conditions, dtype: int64"
      ]
     },
     "execution_count": 19,
     "metadata": {},
     "output_type": "execute_result"
    }
   ],
   "source": [
    "# resumen de las condiciones climáticas para los viajes realizados desde el barrio de Loop hasta el barrio de O'Hare\n",
    "data_loop_ohare['weather_conditions'].value_counts()"
   ]
  },
  {
   "cell_type": "markdown",
   "metadata": {},
   "source": [
    "Probemos la hipótesis siguiente:  \n",
    "- **Hipótesis nula:** la duración promedio de los viajes desde el Loop hasta el Aeropuerto de Internacional de O'Hare es la misma en los días sábados lluviosos.\n",
    "- **Hipótesis alternativa:** la duración promedio de los viajes desde el Loop hasta el Aeropuerto de Internacional de O'Hare no es la misma en los días sábados lluviosos.\n",
    "\n",
    "Ya que vamos a comparar la media de dos poblaciones, usaremos la prueba estadística `'t de Student'` (ttes_ind) con un nivel **alpha=0.05 de significancia.**"
   ]
  },
  {
   "cell_type": "code",
   "execution_count": 20,
   "metadata": {},
   "outputs": [],
   "source": [
    "# creamos el set de datos para los días sin lluvia\n",
    "sample_not_rain=data_loop_ohare.query('weather_conditions==\"Good\"')['duration_seconds']\n",
    "\n",
    "# creamos el set de datos para los días con lluvia\n",
    "sample_rain=data_loop_ohare.query('weather_conditions==\"Bad\"')['duration_seconds']"
   ]
  },
  {
   "cell_type": "code",
   "execution_count": 21,
   "metadata": {},
   "outputs": [
    {
     "name": "stdout",
     "output_type": "stream",
     "text": [
      "el tamaño de sample_not_rain es:  888\n",
      "contiene:  0 valores nulos\n"
     ]
    }
   ],
   "source": [
    "# revisamos el tamaño del dataset 'sample_not_rain' sin valores nulos\n",
    "print(\"el tamaño de sample_not_rain es: \",len(sample_not_rain[sample_not_rain.notna()]))\n",
    "print(\"contiene: \",sample_not_rain.isna().sum(),\"valores nulos\")"
   ]
  },
  {
   "cell_type": "code",
   "execution_count": 22,
   "metadata": {},
   "outputs": [
    {
     "name": "stdout",
     "output_type": "stream",
     "text": [
      "el tamaño de sample_rain es:  180\n",
      "contiene:  0 valores nulos\n"
     ]
    }
   ],
   "source": [
    "# revisamos el tamaño del dataset 'sample_rain' sin valores nulos\n",
    "print(\"el tamaño de sample_rain es: \",len(sample_rain[sample_rain.notna()]))\n",
    "print(\"contiene: \",sample_rain.isna().sum(),\"valores nulos\")"
   ]
  },
  {
   "cell_type": "markdown",
   "metadata": {},
   "source": [
    "Podemos notar que las muestras no tienen los mismos tamaños pero no contienen valores nulos. Para decidir si en la prueba estadística `'t de Student'` usamos la opción `'equal_var=True'`, vamos a realizar la prueba de `'Levene'` a la varianza de las muestras."
   ]
  },
  {
   "cell_type": "markdown",
   "metadata": {},
   "source": [
    "La **prueba de 'Levene'** sirve para probar:\n",
    "\n",
    "- **Hipótesis nula:** Las varianzas de dos poblaciones son iguales\n",
    "- **Hipótesis alternativa:** Las varianzas de las dos poblaciones no son iguales  \n",
    "\n",
    "Usaremos un nivel **'alpha=0.05' de significancia.**"
   ]
  },
  {
   "cell_type": "code",
   "execution_count": 23,
   "metadata": {},
   "outputs": [
    {
     "name": "stdout",
     "output_type": "stream",
     "text": [
      "La varianza de sample_not_rain es: 575732.9308497686\n",
      "La varianza de sample_rain es: 517403.5633024689\n",
      "\n",
      "p-value:  0.5332038671974493\n",
      "No rechazamos la hipótesis nula\n"
     ]
    }
   ],
   "source": [
    "# Prueba de 'Levene' sobre las varianzas de las muestras\n",
    "# el nivel de significancia estadística\n",
    "alpha = 0.05\n",
    "\n",
    "#realizamos la prueba de 'levene'\n",
    "results=st.levene(sample_not_rain,sample_rain)\n",
    "\n",
    "# mostramos las varianzas de cada muestra\n",
    "print(f'La varianza de sample_not_rain es: {np.var(sample_not_rain)}',end='\\n')\n",
    "print(f'La varianza de sample_rain es: {np.var(sample_rain)}',end='\\n\\n')\n",
    "print('p-value: ', results.pvalue)\n",
    "\n",
    "# si el valor p es menor que alfa, rechazamos la hipótesis\n",
    "if results.pvalue < alpha:\n",
    "    print(\"Rechazamos la hipótesis nula de que las varianzas son iguales\")\n",
    "else:\n",
    "    print(\"No rechazamos la hipótesis nula\")"
   ]
  },
  {
   "cell_type": "markdown",
   "metadata": {},
   "source": [
    "**Concluimos entonces que no hay suficiente evidencia para rechazar la hipótesis nula de que las varianzas son iguales.** Así que vamos a proceder a usar el parámtero `'equal_var=True'` en la prueba `'t de Student'`."
   ]
  },
  {
   "cell_type": "code",
   "execution_count": 24,
   "metadata": {},
   "outputs": [
    {
     "name": "stdout",
     "output_type": "stream",
     "text": [
      "La media de sample_not_rain es: 1999.6756756756756\n",
      "La media de sample_rain es: 2427.2055555555557\n",
      "\n",
      "La varianza de sample_not_rain es: 575732.9308497686\n",
      "La varianza de sample_rain es: 517403.5633024689\n",
      "\n",
      "p-value:  6.517970327099473e-12\n",
      "Rechazamos la hipótesis nula\n"
     ]
    }
   ],
   "source": [
    "# Prueba 't de Student' para las medias de las muestras\n",
    "# el nivel de significancia estadística\n",
    "alpha = 0.05\n",
    "\n",
    "results = st.ttest_ind(sample_not_rain, sample_rain,equal_var=True)\n",
    "\n",
    "# mostramos las medias de cada muestra\n",
    "print(f'La media de sample_not_rain es: {np.mean(sample_not_rain)}',end='\\n')\n",
    "print(f'La media de sample_rain es: {np.mean(sample_rain)}',end='\\n\\n')\n",
    "# mostramos las varianzas de cada muestra\n",
    "print(f'La varianza de sample_not_rain es: {np.var(sample_not_rain)}',end='\\n')\n",
    "print(f'La varianza de sample_rain es: {np.var(sample_rain)}',end='\\n\\n')\n",
    "print('p-value: ', results.pvalue)\n",
    "\n",
    "# si el valor p es menor que alfa, rechazamos la hipótesis\n",
    "if results.pvalue < alpha:\n",
    "    print(\"Rechazamos la hipótesis nula\")\n",
    "else:\n",
    "    print(\"No rechazamos la hipótesis nula\") "
   ]
  },
  {
   "cell_type": "markdown",
   "metadata": {},
   "source": [
    "Concluimos por tanto que: **la duración promedio de los viajes desde el Loop hasta el Aeropuerto de Internacional de O'Hare no es la misma en los días sábados lluviosos.**"
   ]
  },
  {
   "cell_type": "markdown",
   "metadata": {},
   "source": [
    "[Volver a Contenidos](#contenidos)\n",
    "## Conclusiones\n",
    "\n",
    "1. Los barrios que están más cercanos al centro de la Ciudad de Chicago: **Loop, River North, Streeterville y West Loop, tienen la mayor cantidad de viajes finalizados.** Mientras que los barrios: **Gold Coast y Sheffield & DePaul, son los dos barrios con la menor cantidad de viajes finalizados.**\n",
    "1. La compañia **Flash Cab tiene la mayor cantidad de viajes realizados,** mientras que la compañia **Blue Ribbon Taxi Association Inc., es la compañia con la menor cantidad de viajes realizados,** de las diez compañias con la mayor cantidad de viajes.\n",
    "1. **La duración promedio de los viajes desde el Loop hasta el Aeropuerto de Internacional de O'Hare no es la misma en los días sábados lluviosos.**"
   ]
  }
 ],
 "metadata": {
  "kernelspec": {
   "display_name": "Python 3 (ipykernel)",
   "language": "python",
   "name": "python3"
  },
  "language_info": {
   "codemirror_mode": {
    "name": "ipython",
    "version": 3
   },
   "file_extension": ".py",
   "mimetype": "text/x-python",
   "name": "python",
   "nbconvert_exporter": "python",
   "pygments_lexer": "ipython3",
   "version": "3.9.13"
  },
  "toc": {
   "base_numbering": 1,
   "nav_menu": {},
   "number_sections": true,
   "sideBar": true,
   "skip_h1_title": true,
   "title_cell": "Tabla de Contenidos",
   "title_sidebar": "Contents",
   "toc_cell": true,
   "toc_position": {},
   "toc_section_display": true,
   "toc_window_display": false
  },
  "toc-autonumbering": true,
  "toc-showcode": false,
  "toc-showmarkdowntxt": false,
  "toc-showtags": false
 },
 "nbformat": 4,
 "nbformat_minor": 4
}
